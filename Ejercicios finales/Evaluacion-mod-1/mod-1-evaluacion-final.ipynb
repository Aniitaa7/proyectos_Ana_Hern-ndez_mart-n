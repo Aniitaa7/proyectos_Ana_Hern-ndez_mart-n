{
 "cells": [
  {
   "cell_type": "markdown",
   "metadata": {},
   "source": [
    "# Evaluación Final Módulo 1\n",
    "## Ejercicio\n",
    " ### A lo largo de esta evaluación tendrás que crear una clase llamada `TiendaOnline` que cumpla los siguientes requisitos:"
   ]
  },
  {
   "cell_type": "code",
   "execution_count": 1,
   "metadata": {},
   "outputs": [],
   "source": [
    "class Tienda_Online: \n",
    "    # el método constructor con los siguientes atributos:\n",
    "    def __init__(self):\n",
    "        self.inventario = []\n",
    "        self.clientes = {}\n",
    "        self.ventas_totales = 0.0\n",
    "\n",
    "    #el primer método donde se van a agregar los productos al inventario o actualziar su cantidad si ya existiese\n",
    "    def agregar_producto(self, nombre, precio, cantidad):\n",
    "        \n",
    "        # se añade el for para iterar a través del inventario\n",
    "        for producto in self.inventario:\n",
    "            if producto['nombre'] == nombre:\n",
    "                producto['cantidad'] += cantidad # si el producto existe se actualiza la cantidad\n",
    "                print(f\"El producto {nombre} esta actualizado. La nueva cantidad: {producto['cantidad']}\")\n",
    "                return\n",
    "       \n",
    "        #para un producto que no existe se añade como un {} en la []\n",
    "        nuevo_producto = {'nombre': nombre, 'precio': precio, 'cantidad': cantidad}\n",
    "        #se usa el append para agregar un nuevo producto al final de la lista\n",
    "        self.inventario.append(nuevo_producto)\n",
    "        print(f\"El nuevo producto {nombre} ha sido agregado al invenatrio\")\n",
    "\n",
    "\n",
    "    #en el segundo método se muestra el inventario con sus productos y sus respectivos detalles\n",
    "    def ver_inventario(self):\n",
    "\n",
    "        #se añade el bucle for para recorrer el inventario\n",
    "        for producto in self.inventario:\n",
    "            #se printean los productos del inventario de la forma pedida\n",
    "            print(f\"Nombre: {producto['nombre']}, Precio: ${producto['precio']}, Cantidad: {producto['cantidad']}\")\n",
    "    \n",
    "\n",
    "    #en el tercer método se busca un producto en el inventario por su nombre y mostrando los detalles si se encuentra\n",
    "    def buscar_producto(self, nombre):\n",
    "\n",
    "        #se añade el bucle for para recorrer el inventario\n",
    "        for producto in self.inventario:\n",
    "            #se añade .lower() por si se busca el producto en minúsculas\n",
    "            if producto['nombre'].lower() == nombre.lower():\n",
    "                print(f\"Nombre: {producto['nombre']}, Precio: ${producto['precio']}, Cantidad: {producto['cantidad']}\")\n",
    "                return #si existe el producto termina la iteración\n",
    "            else:\n",
    "                print(\"No existe producto en el inventario\")\n",
    "    \n",
    "\n",
    "    #en el cuarto se actualiza el stock de un producto del inventario           \n",
    "    def actualizar_stock(self, nombre, cantidad):\n",
    "\n",
    "        #se añade el bucle for para recorrer el inventario\n",
    "        for producto in self.inventario:\n",
    "            if producto['nombre'].lower() == nombre.lower(): #para buscar el producto \n",
    "                producto['cantidad'] += cantidad # actualizar la cantidad\n",
    "                print(f\"El stock de {nombre} esta actualizado. La nueva cantidad: {producto['cantidad']}\")\n",
    "                return\n",
    "            else: #si no existe el producto se printea el siguiente mensaje\n",
    "                print(\"No existe producto en el inventario\")\n",
    "                \n",
    "            \n",
    "    #el quinto método es para eliminar un producto del inventario por su nombre\n",
    "    def eliminar_producto(self, nombre):\n",
    "        \n",
    "        #bucle for para recorrer el inventario\n",
    "        for  producto in self.inventario:\n",
    "            if producto['nombre'].lower() == nombre.lower(): #para buscar el producto por su nombre\n",
    "                self.inventario.remove(producto)\n",
    "                print(f\"Producto {producto['nombre']} eliminado del inventario\")\n",
    "                return\n",
    "            \n",
    "        print(f\"El producto {nombre} no existe en el inventario\")\n",
    "\n",
    "\n",
    "    #Calcular y mostrar el valor total del inventario\n",
    "    def calcular_valor_inventario(self):\n",
    "        valor_total = 0 #se crea una variable del valor total con un inicio de 0 para que se acumule\n",
    "        \n",
    "        #bucle for para iterar por el inventario\n",
    "        for producto in self.inventario:\n",
    "            #se multiplica el precio del producto por su cantidad\n",
    "            valor_producto = producto['precio'] * producto['cantidad']\n",
    "            valor_total += valor_producto\n",
    "        \n",
    "        print(f\"El valor total del inventario es: {valor_total} euros\")\n",
    "\n",
    "\n",
    "\n",
    "    def realizar_compra(self):\n",
    "        #se crean estas variables a modo de introducir los productos en el carrito y para calcular el coste total del cliente\n",
    "        carrito = []\n",
    "        coste_total = 0\n",
    "\n",
    "        while True:  # Bucle que permite múltiples compras\n",
    "            self.ver_inventario()\n",
    "            nombre_producto = input(\"Ingrese el nombre del producto que desea comprar (o 'salir' para finalizar): \")\n",
    "\n",
    "            if nombre_producto.lower() == 'salir':\n",
    "                break\n",
    "\n",
    "            # Buscar el producto en el inventario\n",
    "            producto_en_inventario = None\n",
    "            for producto in self.inventario:\n",
    "                if producto['nombre'].lower() == nombre_producto.lower():\n",
    "                    producto_en_inventario = producto\n",
    "                    break\n",
    "\n",
    "            if producto_en_inventario is None:\n",
    "                print(f\"El producto {nombre_producto} no se encuentra en el inventario.\")\n",
    "                continue\n",
    "\n",
    "            # Solicitar la cantidad que el cliente desea comprar\n",
    "            while True:\n",
    "                try:\n",
    "                    cantidad = int(input(f\"¿Cuántas unidades de {nombre_producto} desea comprar? (Disponibles: {producto_en_inventario['cantidad']}): \"))\n",
    "                    if cantidad > producto_en_inventario['cantidad']:\n",
    "                        print(f\"No hay suficientes unidades disponibles. Solo hay {producto_en_inventario['cantidad']}.\")\n",
    "                    else:\n",
    "                        break\n",
    "                except ValueError: # se ejecutará el programa aunque el usurario no introduzca un número entero\n",
    "                    print(\"Por favor, ingrese un número válido.\")\n",
    "\n",
    "            # Añadir al carrito y actualizar inventario\n",
    "            carrito.append({'nombre': nombre_producto, 'cantidad': cantidad, 'precio': producto_en_inventario['precio']})\n",
    "            producto_en_inventario['cantidad'] -= cantidad\n",
    "\n",
    "            # Calcular el coste total de los productos seleccionados\n",
    "            coste_total += cantidad * producto_en_inventario['precio']\n",
    "            print(f\"Has añadido {cantidad} unidad(es) de {nombre_producto} al carrito. Coste parcial: {coste_total}.\")\n",
    "\n",
    "        # Mostrar el resumen de la compra y el coste total\n",
    "        print(\"Resumen de la compra:\")\n",
    "        for item in carrito:\n",
    "            print(f\"{item['cantidad']} x {item['nombre']} - {item['cantidad'] * item['precio']}\")\n",
    "        \n",
    "        print(f\"El coste total de la compra es: {coste_total}.\")\n",
    "        self.ventas_totales += coste_total\n",
    "\n",
    "\n",
    "\n",
    "    # el noveno método consiste en agregar a clientes con sus nombres y sus emails\n",
    "    def agregar_cliente(self, nombre, email):\n",
    "        \n",
    "        if nombre in self.clientes:\n",
    "            self.clientes['nombre'] = nombre\n",
    "            print(f\"El nuevo cliente es {nombre}\")\n",
    "        else:\n",
    "            self.clientes['nombre'] = email\n",
    "            print(f\"El cliente {nombre} cuyo email es {email} ha sido agregado\")\n",
    "        #el nuevlo cliente ha de registrarse con su nombre y su email   \n",
    "        nuevo_cliente = {'nombre' : nombre, 'email' : email}\n",
    "        print(f\"El cliente {nuevo_cliente['nombre']} cuyo email es {nuevo_cliente['email']} ha sido agregado\")\n",
    "        \n",
    "\n",
    "\n",
    "\n"
   ]
  },
  {
   "cell_type": "code",
   "execution_count": 2,
   "metadata": {},
   "outputs": [],
   "source": [
    "#instancia creada\n",
    "tienda = Tienda_Online()"
   ]
  },
  {
   "cell_type": "markdown",
   "metadata": {},
   "source": [
    "# En las siguientes dos casillas se comprueba que los productos han sido agrgados al inventario con sus respectivos nombres, precios y cantidades"
   ]
  },
  {
   "cell_type": "code",
   "execution_count": 3,
   "metadata": {},
   "outputs": [
    {
     "name": "stdout",
     "output_type": "stream",
     "text": [
      "El nuevo producto Camisa ha sido agregado al invenatrio\n"
     ]
    }
   ],
   "source": [
    "tienda.agregar_producto(\"Camisa\", 20,  40)"
   ]
  },
  {
   "cell_type": "code",
   "execution_count": 4,
   "metadata": {},
   "outputs": [
    {
     "name": "stdout",
     "output_type": "stream",
     "text": [
      "El nuevo producto Pantalón ha sido agregado al invenatrio\n"
     ]
    }
   ],
   "source": [
    "tienda.agregar_producto(\"Pantalón\", 30,  30)"
   ]
  },
  {
   "cell_type": "code",
   "execution_count": 5,
   "metadata": {},
   "outputs": [
    {
     "name": "stdout",
     "output_type": "stream",
     "text": [
      "El producto Camisa esta actualizado. La nueva cantidad: 50\n"
     ]
    }
   ],
   "source": [
    "tienda.agregar_producto(\"Camisa\", 20,  10)\n",
    "#Al añadir manualmente otra cantidad se actualiza sumando la nueva cantidad (10) "
   ]
  },
  {
   "cell_type": "code",
   "execution_count": 6,
   "metadata": {},
   "outputs": [
    {
     "name": "stdout",
     "output_type": "stream",
     "text": [
      "El nuevo producto Chaqueta ha sido agregado al invenatrio\n"
     ]
    }
   ],
   "source": [
    "#A continuación, se le va a agregar un nuevo producto siguiendo los pasos anteriores\n",
    "tienda.agregar_producto(\"Chaqueta\", 30,  60)"
   ]
  },
  {
   "cell_type": "code",
   "execution_count": 7,
   "metadata": {},
   "outputs": [
    {
     "name": "stdout",
     "output_type": "stream",
     "text": [
      "El nuevo producto Zapatos ha sido agregado al invenatrio\n"
     ]
    }
   ],
   "source": [
    "tienda.agregar_producto(\"Zapatos\", 50,  40)"
   ]
  },
  {
   "cell_type": "code",
   "execution_count": 8,
   "metadata": {},
   "outputs": [
    {
     "name": "stdout",
     "output_type": "stream",
     "text": [
      "[{'nombre': 'Camisa', 'precio': 20, 'cantidad': 50}, {'nombre': 'Pantalón', 'precio': 30, 'cantidad': 30}, {'nombre': 'Chaqueta', 'precio': 30, 'cantidad': 60}, {'nombre': 'Zapatos', 'precio': 50, 'cantidad': 40}]\n"
     ]
    }
   ],
   "source": [
    "#Se comprueba, printeando el inventario de la tienda, que aparecen de la forma solicitada = [{}, {}...]\n",
    "print(tienda.inventario)"
   ]
  },
  {
   "cell_type": "markdown",
   "metadata": {},
   "source": [
    "# ---- fin del primer método ----"
   ]
  },
  {
   "cell_type": "code",
   "execution_count": 9,
   "metadata": {},
   "outputs": [
    {
     "name": "stdout",
     "output_type": "stream",
     "text": [
      "Nombre: Camisa, Precio: $20, Cantidad: 50\n",
      "Nombre: Pantalón, Precio: $30, Cantidad: 30\n",
      "Nombre: Chaqueta, Precio: $30, Cantidad: 60\n",
      "Nombre: Zapatos, Precio: $50, Cantidad: 40\n"
     ]
    }
   ],
   "source": [
    "# Se imprimen los detalles de cada producto como se ha sugerido\n",
    "tienda.ver_inventario()"
   ]
  },
  {
   "cell_type": "markdown",
   "metadata": {},
   "source": [
    "# ---- fin del segundo método ----"
   ]
  },
  {
   "cell_type": "code",
   "execution_count": 10,
   "metadata": {},
   "outputs": [
    {
     "name": "stdout",
     "output_type": "stream",
     "text": [
      "Nombre: Camisa, Precio: $20, Cantidad: 50\n"
     ]
    }
   ],
   "source": [
    "#se comprueba al poner un producto que existe si se printea con los detalles\n",
    "tienda.buscar_producto(\"Camisa\")"
   ]
  },
  {
   "cell_type": "code",
   "execution_count": 11,
   "metadata": {},
   "outputs": [
    {
     "name": "stdout",
     "output_type": "stream",
     "text": [
      "No existe producto en el inventario\n",
      "No existe producto en el inventario\n",
      "No existe producto en el inventario\n",
      "No existe producto en el inventario\n"
     ]
    }
   ],
   "source": [
    "#se comprueba un producto que no existe en el inventario\n",
    "tienda.buscar_producto(\"Jersey\")"
   ]
  },
  {
   "cell_type": "code",
   "execution_count": 12,
   "metadata": {},
   "outputs": [
    {
     "name": "stdout",
     "output_type": "stream",
     "text": [
      "No existe producto en el inventario\n",
      "No existe producto en el inventario\n",
      "No existe producto en el inventario\n",
      "Nombre: Zapatos, Precio: $50, Cantidad: 40\n"
     ]
    }
   ],
   "source": [
    "tienda.buscar_producto(\"zapatos\")"
   ]
  },
  {
   "cell_type": "markdown",
   "metadata": {},
   "source": [
    "# ---- fin del tercer método ----"
   ]
  },
  {
   "cell_type": "code",
   "execution_count": 13,
   "metadata": {},
   "outputs": [
    {
     "name": "stdout",
     "output_type": "stream",
     "text": [
      "El stock de Camisa esta actualizado. La nueva cantidad: 60\n"
     ]
    }
   ],
   "source": [
    "#Se ha comprobado el buscar un producto del inventario con el nombre y modificar la cantidad agregando la deseada a sumar\n",
    "tienda.actualizar_stock(\"Camisa\", 10)"
   ]
  },
  {
   "cell_type": "code",
   "execution_count": 14,
   "metadata": {},
   "outputs": [
    {
     "name": "stdout",
     "output_type": "stream",
     "text": [
      "No existe producto en el inventario\n",
      "No existe producto en el inventario\n",
      "No existe producto en el inventario\n",
      "No existe producto en el inventario\n"
     ]
    }
   ],
   "source": [
    "#Se comprueba buscando un producto que no está en el inventario\n",
    "tienda.actualizar_stock(\"Jersey\", 10)"
   ]
  },
  {
   "cell_type": "markdown",
   "metadata": {},
   "source": [
    "# ---- fin del cuarto método ----"
   ]
  },
  {
   "cell_type": "code",
   "execution_count": 15,
   "metadata": {},
   "outputs": [
    {
     "name": "stdout",
     "output_type": "stream",
     "text": [
      "Producto Chaqueta eliminado del inventario\n"
     ]
    }
   ],
   "source": [
    "tienda.eliminar_producto(\"Chaqueta\")"
   ]
  },
  {
   "cell_type": "code",
   "execution_count": 16,
   "metadata": {},
   "outputs": [
    {
     "name": "stdout",
     "output_type": "stream",
     "text": [
      "El producto Jersey no existe en el inventario\n"
     ]
    }
   ],
   "source": [
    "tienda.eliminar_producto('Jersey')"
   ]
  },
  {
   "cell_type": "code",
   "execution_count": 17,
   "metadata": {},
   "outputs": [
    {
     "name": "stdout",
     "output_type": "stream",
     "text": [
      "Nombre: Camisa, Precio: $20, Cantidad: 60\n",
      "Nombre: Pantalón, Precio: $30, Cantidad: 30\n",
      "Nombre: Zapatos, Precio: $50, Cantidad: 40\n"
     ]
    }
   ],
   "source": [
    "tienda.ver_inventario()"
   ]
  },
  {
   "cell_type": "markdown",
   "metadata": {},
   "source": [
    "# ---- fin del quinto método ----"
   ]
  },
  {
   "cell_type": "code",
   "execution_count": 18,
   "metadata": {},
   "outputs": [
    {
     "name": "stdout",
     "output_type": "stream",
     "text": [
      "El valor total del inventario es: 4100 euros\n"
     ]
    }
   ],
   "source": [
    "# se va a comprobar si se realizado el valor total del inventario\n",
    "tienda.calcular_valor_inventario()"
   ]
  },
  {
   "cell_type": "markdown",
   "metadata": {},
   "source": [
    "# ---- fin del sexto método ----"
   ]
  },
  {
   "cell_type": "code",
   "execution_count": 19,
   "metadata": {},
   "outputs": [
    {
     "name": "stdout",
     "output_type": "stream",
     "text": [
      "Nombre: Camisa, Precio: $20, Cantidad: 60\n",
      "Nombre: Pantalón, Precio: $30, Cantidad: 30\n",
      "Nombre: Zapatos, Precio: $50, Cantidad: 40\n",
      "Has añadido 2 unidad(es) de camisa al carrito. Coste parcial: 40.\n",
      "Nombre: Camisa, Precio: $20, Cantidad: 58\n",
      "Nombre: Pantalón, Precio: $30, Cantidad: 30\n",
      "Nombre: Zapatos, Precio: $50, Cantidad: 40\n",
      "El producto pantalon  no se encuentra en el inventario.\n",
      "Nombre: Camisa, Precio: $20, Cantidad: 58\n",
      "Nombre: Pantalón, Precio: $30, Cantidad: 30\n",
      "Nombre: Zapatos, Precio: $50, Cantidad: 40\n",
      "El producto 1 no se encuentra en el inventario.\n",
      "Nombre: Camisa, Precio: $20, Cantidad: 58\n",
      "Nombre: Pantalón, Precio: $30, Cantidad: 30\n",
      "Nombre: Zapatos, Precio: $50, Cantidad: 40\n",
      "Resumen de la compra:\n",
      "2 x camisa - 40\n",
      "El coste total de la compra es: 40.\n"
     ]
    }
   ],
   "source": [
    "#se comprueba que el cliente elija su compra multiple de productos en el inventario. A su vez se actualziar el stock del inventario y cuando pone salir te hace el resumen de la compra y el valor total de la misma\n",
    "tienda.realizar_compra()"
   ]
  },
  {
   "cell_type": "markdown",
   "metadata": {},
   "source": [
    "# ---- fin del séptimo método ----"
   ]
  }
 ],
 "metadata": {
  "kernelspec": {
   "display_name": "Python 3",
   "language": "python",
   "name": "python3"
  },
  "language_info": {
   "codemirror_mode": {
    "name": "ipython",
    "version": 3
   },
   "file_extension": ".py",
   "mimetype": "text/x-python",
   "name": "python",
   "nbconvert_exporter": "python",
   "pygments_lexer": "ipython3",
   "version": "3.12.5"
  }
 },
 "nbformat": 4,
 "nbformat_minor": 2
}
